{
  "nbformat": 4,
  "nbformat_minor": 0,
  "metadata": {
    "colab": {
      "provenance": [],
      "include_colab_link": true
    },
    "kernelspec": {
      "name": "python3",
      "display_name": "Python 3"
    },
    "language_info": {
      "name": "python"
    }
  },
  "cells": [
    {
      "cell_type": "markdown",
      "metadata": {
        "id": "view-in-github",
        "colab_type": "text"
      },
      "source": [
        "<a href=\"https://colab.research.google.com/github/yash3056/python/blob/master/AI%2CML%20%26%20DL/Day%202/Day_2_Assignment.ipynb\" target=\"_parent\"><img src=\"https://colab.research.google.com/assets/colab-badge.svg\" alt=\"Open In Colab\"/></a>"
      ]
    },
    {
      "cell_type": "markdown",
      "source": [
        "\n",
        "# **Day 2 :- Assignment On Functions, Conditions, Loops**\n",
        "\n",
        "**Save the File with Your Name_RollNumber and Upload on Classroom**"
      ],
      "metadata": {
        "id": "fSB3-fMiwEuV"
      }
    },
    {
      "cell_type": "markdown",
      "source": [
        "\n",
        "\n",
        "> Add blockquote\n",
        "\n"
      ],
      "metadata": {
        "id": "ArD5HScu_QKF"
      }
    },
    {
      "cell_type": "markdown",
      "source": [
        "Q1: Check number\n",
        "Given an integer n, find if n is positive, negative or 0.\n",
        "If n is positive, print \"Positive\"\n",
        "If n is negative, print \"Negative\"\n",
        "And if n is equal to 0, print \"Zero\"."
      ],
      "metadata": {
        "id": "LqFJE_gmwKGc"
      }
    },
    {
      "cell_type": "code",
      "source": [
        "#solution\n",
        "n=int(input(\"Enter a number:\"))\n",
        "if n>0:\n",
        "  print(\"Positive\")\n",
        "elif n<0:\n",
        "  print(\"Negative\")\n",
        "else:\n",
        "  print(\"Zero\")"
      ],
      "metadata": {
        "id": "uyEfs_DBwQT9",
        "colab": {
          "base_uri": "https://localhost:8080/"
        },
        "outputId": "1219ca52-6e6a-452d-e757-e9af9bffd54e"
      },
      "execution_count": null,
      "outputs": [
        {
          "output_type": "stream",
          "name": "stdout",
          "text": [
            "Enter a number:-98\n",
            "Negative\n"
          ]
        }
      ]
    },
    {
      "cell_type": "markdown",
      "source": [
        "Q2: Sum of n numbers\n",
        "Given an integer n, find and print the sum of numbers from 1 to n."
      ],
      "metadata": {
        "id": "FNl9k0lhwRx0"
      }
    },
    {
      "cell_type": "code",
      "source": [
        "#Solution\n",
        "n=int(input(\"Enter a number:\"))\n",
        "sum=0\n",
        "for i in range(1,n+1):\n",
        "  sum=sum+i\n",
        "print(sum)"
      ],
      "metadata": {
        "id": "eKwJHSJawU6j",
        "colab": {
          "base_uri": "https://localhost:8080/"
        },
        "outputId": "c454b793-9f7a-48af-9c64-b967522b4422"
      },
      "execution_count": null,
      "outputs": [
        {
          "output_type": "stream",
          "name": "stdout",
          "text": [
            "Enter a number:8\n",
            "36\n"
          ]
        }
      ]
    },
    {
      "cell_type": "markdown",
      "source": [
        "Q3: Sum of Even Numbers\n",
        "Given a number N, print sum of all even numbers from 1 to N.\n"
      ],
      "metadata": {
        "id": "Z-q70uCtwWi7"
      }
    },
    {
      "cell_type": "code",
      "source": [
        "#Solution\n",
        "n=int(input(\"Enter a number:\"))\n",
        "sum=0\n",
        "for i in range(0,n+2):\n",
        "  if i%2==0:\n",
        "    sum=sum+i\n",
        "  else:\n",
        "    continue\n",
        "print(sum)"
      ],
      "metadata": {
        "id": "PB9fOChRwZ4U",
        "colab": {
          "base_uri": "https://localhost:8080/"
        },
        "outputId": "66336b4e-123b-4b33-b023-3ea2c3b23ee0"
      },
      "execution_count": null,
      "outputs": [
        {
          "output_type": "stream",
          "name": "stdout",
          "text": [
            "Enter a number:8\n",
            "20\n"
          ]
        }
      ]
    },
    {
      "cell_type": "markdown",
      "source": [
        "Q4: Reverse of a number\n",
        "Write a program to generate the reverse of a given number N. Print the corresponding reverse number.\n",
        "Note : If a number has trailing zeros, then its reverse will not include them. For e.g., reverse of 10400 will be 401 instead of 00401."
      ],
      "metadata": {
        "id": "wSZKbsrgweT8"
      }
    },
    {
      "cell_type": "code",
      "source": [
        "#Solution\n",
        "n=int(input(\"Enter a number:\"))\n",
        "n=str(n)[::-1]\n",
        "n=int(n)\n",
        "print(n)\n"
      ],
      "metadata": {
        "id": "sJPCOSf7wg00",
        "colab": {
          "base_uri": "https://localhost:8080/"
        },
        "outputId": "a6a24f39-8610-486c-bc65-965f1c062e36"
      },
      "execution_count": null,
      "outputs": [
        {
          "output_type": "stream",
          "name": "stdout",
          "text": [
            "Enter a number:080030\n",
            "3008\n"
          ]
        }
      ]
    },
    {
      "cell_type": "markdown",
      "source": [
        "Q5: Nth Fibonacci Number\n",
        "Provided 'n' you have to find out the n-th Fibonacci Number. Example: Input: 6\n",
        "\n",
        "Output: 8"
      ],
      "metadata": {
        "id": "KmZCRg2swq_c"
      }
    },
    {
      "cell_type": "code",
      "source": [
        "def nth_fibonacci(n):\n",
        "  if n < 2:\n",
        "    return n\n",
        "  else:\n",
        "    return nth_fibonacci(n-1) + nth_fibonacci(n-2)\n",
        "\n",
        "n = int(input(\"Enter the number of terms: \"))\n",
        "print(nth_fibonacci(n))"
      ],
      "metadata": {
        "id": "kcvNaHDnwwpU",
        "colab": {
          "base_uri": "https://localhost:8080/"
        },
        "outputId": "beafe56c-83a4-44d8-eb0e-a1849bb0a895"
      },
      "execution_count": null,
      "outputs": [
        {
          "output_type": "stream",
          "name": "stdout",
          "text": [
            "Enter the number of terms: 18\n",
            "2584\n"
          ]
        }
      ]
    },
    {
      "cell_type": "markdown",
      "source": [
        "Q6: Fibonacci Member\n",
        "Given a number N, figure out if it is a member of fibonacci series or not. Return true if the number is member of fibonacci series else false."
      ],
      "metadata": {
        "id": "baBwwSCpxFUM"
      }
    },
    {
      "cell_type": "code",
      "source": [
        "def is_fibonacci(n):\n",
        "  a, b = 0, 1\n",
        "  while b < n:\n",
        "    a, b = b, a + b\n",
        "  return b == n\n",
        "\n",
        "n = int(input(\"Enter a number: \"))\n",
        "if is_fibonacci(n):\n",
        "  print(\"Yes, the number is a member of the Fibonacci series.\")\n",
        "else:\n",
        "  print(\"No, the number is not a member of the Fibonacci series.\")\n"
      ],
      "metadata": {
        "id": "gW0tfYQ8xM1U",
        "colab": {
          "base_uri": "https://localhost:8080/"
        },
        "outputId": "cb3f5501-6585-4207-ca10-c14dcb43db9d"
      },
      "execution_count": null,
      "outputs": [
        {
          "output_type": "stream",
          "name": "stdout",
          "text": [
            "Enter a number: 2584\n",
            "Yes, the number is a member of the Fibonacci series.\n"
          ]
        }
      ]
    },
    {
      "cell_type": "markdown",
      "source": [
        "Q7: Write a Python function to find the maximum of three numbers.\n"
      ],
      "metadata": {
        "id": "TdPUC4oAxf88"
      }
    },
    {
      "cell_type": "code",
      "source": [
        "#Solution\n",
        "def max_of_three(a, b, c):\n",
        "  if a >= b and a >= c:\n",
        "    return a\n",
        "  elif b >= a and b >= c:\n",
        "    return b\n",
        "  else:\n",
        "    return c\n",
        "\n",
        "a = float(input(\"Enter first number: \"))\n",
        "b = float(input(\"Enter second number: \"))\n",
        "c = float(input(\"Enter third number: \"))\n",
        "\n",
        "print(\"Maximum of three numbers is\", max_of_three(a, b, c))"
      ],
      "metadata": {
        "id": "-OIQcFrNxhJz",
        "colab": {
          "base_uri": "https://localhost:8080/"
        },
        "outputId": "2deb81b1-fb33-46d1-b4c6-3b982633aff6"
      },
      "execution_count": null,
      "outputs": [
        {
          "output_type": "stream",
          "name": "stdout",
          "text": [
            "Enter first number: 7\n",
            "Enter second number: 8\n",
            "Enter third number: 9\n",
            "Maximum of three numbers is 9.0\n"
          ]
        }
      ]
    },
    {
      "cell_type": "markdown",
      "source": [
        "Q8: Write a Program to calculate simple interest using function interest() that received principal amount, time and rate and returns calculated simple interest."
      ],
      "metadata": {
        "id": "nwBrpmOTxiYz"
      }
    },
    {
      "cell_type": "code",
      "source": [
        "def interest(p, t, r):\n",
        "  return (p * t * r) / 100\n",
        "\n",
        "p = float(input(\"Enter principal amount: \"))\n",
        "t = float(input(\"Enter time: \"))\n",
        "r = float(input(\"Enter rate: \"))\n",
        "\n",
        "print(\"Simple interest is:\", interest(p, t, r))"
      ],
      "metadata": {
        "colab": {
          "base_uri": "https://localhost:8080/"
        },
        "id": "RibNmG6w5_uQ",
        "outputId": "ce87a009-0774-42d9-f277-ea0b8cde01f8"
      },
      "execution_count": null,
      "outputs": [
        {
          "output_type": "stream",
          "name": "stdout",
          "text": [
            "Enter principal amount: 9\n",
            "Enter time: 8\n",
            "Enter rate: 7\n",
            "Simple interest is: 5.04\n"
          ]
        }
      ]
    },
    {
      "cell_type": "markdown",
      "source": [
        "Q9: WAP to accept three integers and print the largest of the three\n"
      ],
      "metadata": {
        "id": "H9E-PjlF_Ta1"
      }
    },
    {
      "cell_type": "code",
      "source": [
        "#Solution\n",
        "def largest(a, b, c):\n",
        "  if a >= b and a >= c:\n",
        "    return a\n",
        "  elif b >= a and b >= c:\n",
        "    return b\n",
        "  else:\n",
        "    return c\n",
        "\n",
        "a = int(input(\"Enter first number: \"))\n",
        "b = int(input(\"Enter second number: \"))\n",
        "c = int(input(\"Enter third number: \"))\n",
        "\n",
        "print(\"Largest of three numbers is\", largest(a, b, c))"
      ],
      "metadata": {
        "id": "9b4nvmdR_WQz",
        "colab": {
          "base_uri": "https://localhost:8080/"
        },
        "outputId": "0c4cfd68-bd07-4f57-8c0e-266fe7d719d8"
      },
      "execution_count": null,
      "outputs": [
        {
          "output_type": "stream",
          "name": "stdout",
          "text": [
            "Enter first number: 7\n",
            "Enter second number: 8\n",
            "Enter third number: 9\n",
            "Largest of three numbers is 9\n"
          ]
        }
      ]
    },
    {
      "cell_type": "markdown",
      "source": [
        "Q9: WAP that inputs three numbers and print sum of non-duplicate numbers. Duplicate numbers are ignored\n"
      ],
      "metadata": {
        "id": "nEYD_ia7_X7p"
      }
    },
    {
      "cell_type": "code",
      "source": [
        "def sum_of_non_duplicates(a, b, c):\n",
        "  sum = 0\n",
        "  if a != b and a != c:\n",
        "    sum += a\n",
        "  if b != a and b != c:\n",
        "    sum += b\n",
        "  if c != a and c != b:\n",
        "    sum += c\n",
        "  return sum\n",
        "\n",
        "a = int(input(\"Enter first number: \"))\n",
        "b = int(input(\"Enter second number: \"))\n",
        "c = int(input(\"Enter third number: \"))\n",
        "\n",
        "print(\"Sum of non-duplicate numbers is\", sum_of_non_duplicates(a, b, c))\n"
      ],
      "metadata": {
        "id": "WmSSqqiF_aE8",
        "colab": {
          "base_uri": "https://localhost:8080/"
        },
        "outputId": "66f0fc36-504c-4adb-9ce0-1ba07a555d7d"
      },
      "execution_count": null,
      "outputs": [
        {
          "output_type": "stream",
          "name": "stdout",
          "text": [
            "Enter first number: 1\n",
            "Enter second number: 2\n",
            "Enter third number: 3\n",
            "Sum of non-duplicate numbers is 6\n"
          ]
        }
      ]
    },
    {
      "cell_type": "markdown",
      "source": [
        "Q10: WAP to display a menu for calculating area of circle or perimeter of circle\n"
      ],
      "metadata": {
        "id": "vQ4afYX5_bPe"
      }
    },
    {
      "cell_type": "code",
      "source": [
        "#Solution\n",
        "def area_of_circle(r):\n",
        "  return 3.14 * r * r\n",
        "def perimeter_of_circle(r):\n",
        "  return 2 * 3.14 * r\n",
        "menu = \"\"\"\n",
        "1. Area of Circle\n",
        "2. Perimeter of Circle\n",
        "Enter your choice: \"\"\"\n",
        "choice = int(input(menu))\n",
        "if choice == 1:\n",
        "  r = float(input(\"Enter radius: \"))\n",
        "  print(\"Area of Circle is:\", area_of_circle(r))\n",
        "  print(\"Thank you\")\n",
        "elif choice == 2:\n",
        "  r = float(input(\"Enter radius: \"))\n",
        "  print(\"Perimeter of Circle is:\", perimeter_of_circle(r))\n",
        "  print(\"Thank you\")\n",
        "else:\n",
        "  print(\"Invalid choice\")"
      ],
      "metadata": {
        "id": "633csjYR_e3C",
        "colab": {
          "base_uri": "https://localhost:8080/"
        },
        "outputId": "9c443f6b-cc60-49cf-a4ff-8e42432f8376"
      },
      "execution_count": null,
      "outputs": [
        {
          "output_type": "stream",
          "name": "stdout",
          "text": [
            "\n",
            "1. Area of Circle\n",
            "2. Perimeter of Circle\n",
            "Enter your choice: 2\n",
            "Enter radius: 5\n",
            "Perimeter of Circle is: 31.400000000000002\n",
            "Thank you\n"
          ]
        }
      ]
    },
    {
      "cell_type": "markdown",
      "source": [
        "Q11: WAP that reads three numbers and prints them in ascending order\n"
      ],
      "metadata": {
        "id": "n2R_58zW_gDI"
      }
    },
    {
      "cell_type": "code",
      "source": [
        "#Solution\n",
        "def ascending_order(a, b, c):\n",
        "  return sorted([a, b, c])\n",
        "print(ascending_order(3, 1, 2))"
      ],
      "metadata": {
        "id": "xd6AFrLW_h54",
        "colab": {
          "base_uri": "https://localhost:8080/"
        },
        "outputId": "8b6567de-ef2a-4fb4-954e-f076c2e84723"
      },
      "execution_count": null,
      "outputs": [
        {
          "output_type": "stream",
          "name": "stdout",
          "text": [
            "[1, 2, 3]\n"
          ]
        }
      ]
    },
    {
      "cell_type": "markdown",
      "source": [
        "Q12: WAP that prints sum of natural numbers between two numbers taken as input\n"
      ],
      "metadata": {
        "id": "i99AuRvF_jEI"
      }
    },
    {
      "cell_type": "code",
      "source": [
        "#Solution\n",
        "def sum_of_natural_numbers(a, b):\n",
        "  sum = 0\n",
        "  for i in range(a, b + 1):\n",
        "    sum += i\n",
        "  return sum\n",
        "print(sum_of_natural_numbers(1, 10))"
      ],
      "metadata": {
        "id": "2Y3kB4Bb_lH8",
        "colab": {
          "base_uri": "https://localhost:8080/"
        },
        "outputId": "43906938-03cc-4872-dbbd-3e815af65553"
      },
      "execution_count": null,
      "outputs": [
        {
          "output_type": "stream",
          "name": "stdout",
          "text": [
            "55\n"
          ]
        }
      ]
    },
    {
      "cell_type": "markdown",
      "source": [
        "Q13: WAP to calculate factorial of a number\n"
      ],
      "metadata": {
        "id": "FvN9LR0G_mde"
      }
    },
    {
      "cell_type": "code",
      "source": [
        "#Solution\n",
        "def factorial(n):\n",
        "  if n == 0:\n",
        "    return 1\n",
        "  else:\n",
        "    return n * factorial(n - 1)\n",
        "print(factorial(5))"
      ],
      "metadata": {
        "id": "5k5F9LZL_pSu",
        "colab": {
          "base_uri": "https://localhost:8080/"
        },
        "outputId": "b72787ce-45a2-4589-ac59-b2a95a084ca5"
      },
      "execution_count": null,
      "outputs": [
        {
          "output_type": "stream",
          "name": "stdout",
          "text": [
            "120\n"
          ]
        }
      ]
    },
    {
      "cell_type": "markdown",
      "source": [
        "Q14: WAP to input a number and test if it is a prime number or not\n"
      ],
      "metadata": {
        "id": "aqNJbzTi_skj"
      }
    },
    {
      "cell_type": "code",
      "source": [
        "#Solution\n",
        "def is_prime(n):\n",
        "  if n < 2:\n",
        "    return False\n",
        "  for i in range(2, int(n**0.5) + 1):\n",
        "    if n % i == 0:\n",
        "      return False\n",
        "  return True\n",
        "print(is_prime(17))"
      ],
      "metadata": {
        "id": "hTlXyB-x_uiw",
        "colab": {
          "base_uri": "https://localhost:8080/"
        },
        "outputId": "fec96a27-2943-4931-d40c-415fa8971b0e"
      },
      "execution_count": null,
      "outputs": [
        {
          "output_type": "stream",
          "name": "stdout",
          "text": [
            "True\n"
          ]
        }
      ]
    },
    {
      "cell_type": "markdown",
      "source": [
        "Q15: WAP to take String line as input and display following stats: Number of uppercase letters, Number of lowercase letters, Number of alphabets and Number of Digits\n"
      ],
      "metadata": {
        "id": "lYniPkQY_vpe"
      }
    },
    {
      "cell_type": "code",
      "source": [
        "#Solution\n",
        "def string_stats(input_string):\n",
        "    # Initialize counters\n",
        "    num_uppercase = 0\n",
        "    num_lowercase = 0\n",
        "    num_alphabets = 0\n",
        "    num_digits = 0\n",
        "\n",
        "    # Iterate through each character in the string\n",
        "    for char in input_string:\n",
        "        if char.isupper():\n",
        "            num_uppercase += 1\n",
        "            num_alphabets += 1\n",
        "        elif char.islower():\n",
        "            num_lowercase += 1\n",
        "            num_alphabets += 1\n",
        "        elif char.isdigit():\n",
        "            num_digits += 1\n",
        "\n",
        "    # Print the results\n",
        "    print(f\"Number of uppercase letters: {num_uppercase}\")\n",
        "    print(f\"Number of lowercase letters: {num_lowercase}\")\n",
        "    print(f\"Number of alphabets: {num_alphabets}\")\n",
        "    print(f\"Number of digits: {num_digits}\")\n",
        "print(string_stats(\"Hello, World!\"))"
      ],
      "metadata": {
        "id": "KF8BBSGe_yOZ",
        "colab": {
          "base_uri": "https://localhost:8080/"
        },
        "outputId": "4fc5f9f8-7b83-4939-b029-00fecf01008d"
      },
      "execution_count": 3,
      "outputs": [
        {
          "output_type": "stream",
          "name": "stdout",
          "text": [
            "Number of uppercase letters: 2\n",
            "Number of lowercase letters: 8\n",
            "Number of alphabets: 10\n",
            "Number of digits: 0\n",
            "None\n"
          ]
        }
      ]
    },
    {
      "cell_type": "markdown",
      "source": [
        "Q16: WAP to reads a line and a substring and display number of occurences of the given substring  in the line\n"
      ],
      "metadata": {
        "id": "NHWzqFyZ_0MP"
      }
    },
    {
      "cell_type": "code",
      "source": [
        "#Solution\n",
        "def count_substring_occurrences(line, substring):\n",
        "    count = line.count(substring)\n",
        "    print(f\"Number of occurrences of '{substring}': {count}\")\n",
        "line = input(\"Enter a line of text: \")\n",
        "substring = input(\"Enter the substring to search for: \")\n",
        "count_substring_occurrences(line, substring)"
      ],
      "metadata": {
        "id": "0ucvjBMz_1lz",
        "colab": {
          "base_uri": "https://localhost:8080/"
        },
        "outputId": "8a95331f-d3f8-4170-deed-0ad9c8f3d377"
      },
      "execution_count": 4,
      "outputs": [
        {
          "output_type": "stream",
          "name": "stdout",
          "text": [
            "Enter a line of text: hello world\n",
            "Enter the substring to search for: hel\n",
            "Number of occurrences of 'hel': 1\n"
          ]
        }
      ]
    },
    {
      "cell_type": "markdown",
      "source": [
        "Q17: WAP that takes a string with multiple words and then capitalize the first letter of each word and forms a new string out of it\n"
      ],
      "metadata": {
        "id": "XxdkeTkc_2hq"
      }
    },
    {
      "cell_type": "code",
      "source": [
        "string = 'hey my'\n",
        "retval = ' '.join(x.title() for x in string.split())\n",
        "print(retval)"
      ],
      "metadata": {
        "colab": {
          "base_uri": "https://localhost:8080/"
        },
        "id": "KbKTbLc1AT4T",
        "outputId": "116ba8ce-6656-415d-f48d-b112cd220f42"
      },
      "execution_count": 7,
      "outputs": [
        {
          "output_type": "stream",
          "name": "stdout",
          "text": [
            "Hey My\n"
          ]
        }
      ]
    },
    {
      "cell_type": "markdown",
      "source": [
        "#  **Practice Question**"
      ],
      "metadata": {
        "id": "6nApn9ugEb42"
      }
    },
    {
      "cell_type": "markdown",
      "source": [
        "\n",
        "1. Write a program to perform following list operations on the list given below:\n",
        "\n",
        "a) Check the length of list1\n",
        "b) Check the membership of '24' in list1\n",
        "c) Concatenate the list1 and list2\n",
        "d) Repeat the list2 three times\n",
        "\n",
        "\n"
      ],
      "metadata": {
        "id": "Hy8ZUM7vCVTN"
      }
    },
    {
      "cell_type": "code",
      "source": [
        "#Check the length of list1\n",
        "list1 = [1, 2, 3, 4, 5, 24]\n",
        "print(len(list1))\n",
        "\n",
        "#Check the membership of '24' in list1\n",
        "print(24 in list1)\n",
        "\n",
        "#Concatenate the list1 and list2\n",
        "list2 = [6, 7, 8, 9, 10]\n",
        "print(list1 + list2)\n",
        "\n",
        "# Concatenate the list1 and list2\n",
        "list2 = [6, 7, 8, 9, 10]\n",
        "print(list1 * 3)\n",
        "\n",
        "# Repeat the list2 three times\n",
        "print(list2 * 3)\n"
      ],
      "metadata": {
        "colab": {
          "base_uri": "https://localhost:8080/"
        },
        "id": "lzcM5gowCEm0",
        "outputId": "b1a38bda-31dc-43e0-cefe-0bb0a8a214a4"
      },
      "execution_count": 11,
      "outputs": [
        {
          "output_type": "stream",
          "name": "stdout",
          "text": [
            "6\n",
            "True\n",
            "[1, 2, 3, 4, 5, 24, 6, 7, 8, 9, 10]\n",
            "[1, 2, 3, 4, 5, 24, 1, 2, 3, 4, 5, 24, 1, 2, 3, 4, 5, 24]\n",
            "[6, 7, 8, 9, 10, 6, 7, 8, 9, 10, 6, 7, 8, 9, 10]\n"
          ]
        }
      ]
    },
    {
      "cell_type": "markdown",
      "source": [
        " 2. Write the program to multiply the two lists\n",
        "\n",
        "Lists to perform multiplication:\n",
        "\n",
        "list1 = [1, 2, 3, 4]\n",
        "\n",
        "list2 = [0, 5, 2, 1]\n"
      ],
      "metadata": {
        "id": "c_ELgt86DBrk"
      }
    },
    {
      "cell_type": "code",
      "source": [
        "list1 = [1, 2, 3, 4]\n",
        "\n",
        "list2 = [0, 5, 2, 1]\n",
        "\n",
        "result = [x * y for x, y in zip(list1, list2)]\n",
        "\n",
        "print(result)"
      ],
      "metadata": {
        "colab": {
          "base_uri": "https://localhost:8080/"
        },
        "id": "cl_6CJoUC3tB",
        "outputId": "369d909e-ad69-494c-b56e-36edcb8fcb2a"
      },
      "execution_count": 13,
      "outputs": [
        {
          "output_type": "stream",
          "name": "stdout",
          "text": [
            "[0, 10, 6, 4]\n"
          ]
        }
      ]
    },
    {
      "cell_type": "markdown",
      "source": [
        "3. Write a code to retrieve elements from a list\n",
        "\n",
        "a. First element\n",
        "b. Second last element\n",
        "c. First three elements\n",
        "d. Slice the list from 1st index till the last index with an increment of an index by 2"
      ],
      "metadata": {
        "id": "QJhG05eVDzy-"
      }
    },
    {
      "cell_type": "code",
      "source": [
        "list1 = ['Python', 1, 2, 3, 'Data', True]\n",
        "#First element\n",
        "print(list1[0])\n",
        "#Second last element\n",
        "print(list1[-2])\n",
        "#First three elements\n",
        "print(list1[:3])\n",
        "#Slice the list from 1st index till the last index with an increment of an index by 2\n",
        "print(list1[1::2])"
      ],
      "metadata": {
        "colab": {
          "base_uri": "https://localhost:8080/"
        },
        "id": "kCRK1ONOD2OO",
        "outputId": "7660e583-973d-4757-e484-0380e5fdac2a"
      },
      "execution_count": 15,
      "outputs": [
        {
          "output_type": "stream",
          "name": "stdout",
          "text": [
            "Python\n",
            "Data\n",
            "['Python', 1, 2]\n",
            "[1, 3, True]\n"
          ]
        }
      ]
    },
    {
      "cell_type": "markdown",
      "source": [
        "\n",
        "4. Write a program to perform following built-in list operations:\n",
        "\n",
        "a. Min(list)\n",
        "b. Max(list)\n",
        "c. Sort the elements (use sort() and sorted() function)\n",
        "d. Create a copy of a list\n",
        "e. Remove element '5' from the list"
      ],
      "metadata": {
        "id": "t_29XJyfE0RG"
      }
    },
    {
      "cell_type": "code",
      "source": [
        "list1 = [4, 5, 7, -2, 0, 1]\n",
        "\n",
        "# a. Min(list)\n",
        "print(min(list1))\n",
        "\n",
        "# b. Max(list)\n",
        "print(max(list1))\n",
        "\n",
        "# c. Sort the elements (use sort() and sorted() function)\n",
        "# Using sort() - modifies the original list\n",
        "list1.sort()\n",
        "print(list1)\n",
        "\n",
        "# Using sorted() - creates a new sorted list\n",
        "sorted_list = sorted(list1)\n",
        "print(sorted_list)\n",
        "\n",
        "# d. Create a copy of a list\n",
        "list_copy = list1.copy()\n",
        "print(list_copy)\n",
        "\n",
        "# e. Remove element '5' from the list\n",
        "list1.remove(5)\n",
        "print(list1)"
      ],
      "metadata": {
        "id": "yzN47brxEO3V"
      },
      "execution_count": null,
      "outputs": []
    },
    {
      "cell_type": "markdown",
      "source": [
        " 5. Manipulating a list:\n",
        "\n",
        "a. Add a new element 'Data' in the given list\n",
        "b. Add elements 'Excel' and 'Data' in the given list\n",
        "c. Replace an element 'C' with 'C++' in the given list\n",
        "\n",
        "Use the below list\n",
        "\n",
        "list1 = ['R', 'Python', 'C', 'Java']\n"
      ],
      "metadata": {
        "id": "774Bl99qE2WG"
      }
    },
    {
      "source": [
        "list1 = ['R', 'Python', 'C', 'Java']\n",
        "\n",
        "# a. Add a new element 'Data' in the given list\n",
        "list1.append('Data')\n",
        "print(list1)\n",
        "\n",
        "# b. Add elements 'Excel' and 'Data' in the given list\n",
        "list1.extend(['Excel', 'Data'])\n",
        "print(list1)\n",
        "\n",
        "# c. Replace an element 'C' with 'C++' in the given list\n",
        "index_of_C = list1.index('C')\n",
        "list1[index_of_C] = 'C++'\n",
        "print(list1)"
      ],
      "cell_type": "code",
      "metadata": {
        "colab": {
          "base_uri": "https://localhost:8080/"
        },
        "id": "8OVaxZD9FCe8",
        "outputId": "bbada21d-a932-4c89-c9d2-e81f0eb0f0f7"
      },
      "execution_count": 16,
      "outputs": [
        {
          "output_type": "stream",
          "name": "stdout",
          "text": [
            "['R', 'Python', 'C', 'Java', 'Data']\n",
            "['R', 'Python', 'C', 'Java', 'Data', 'Excel', 'Data']\n",
            "['R', 'Python', 'C++', 'Java', 'Data', 'Excel', 'Data']\n"
          ]
        }
      ]
    },
    {
      "cell_type": "markdown",
      "source": [
        "## Other question are of tuple and dictionary"
      ],
      "metadata": {
        "id": "SvacbYLgFTS9"
      }
    }
  ]
}