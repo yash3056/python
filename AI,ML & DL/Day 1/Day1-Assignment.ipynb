{
  "nbformat": 4,
  "nbformat_minor": 0,
  "metadata": {
    "colab": {
      "provenance": []
    },
    "kernelspec": {
      "name": "python3",
      "display_name": "Python 3"
    },
    "language_info": {
      "name": "python"
    }
  },
  "cells": [
    {
      "cell_type": "markdown",
      "source": [
        "\n",
        "# **Day 1 :- Assignment On Python Basics, Types, Expression, Variables, String Operations**\n",
        "\n",
        "**Save the File with Your Name_RollNumber and Upload on Classroom**"
      ],
      "metadata": {
        "id": "Qpsppct8jz7V"
      }
    },
    {
      "cell_type": "markdown",
      "source": [
        "Q1: Find average Marks\n",
        "Write a program to input marks of three tests of a student (all integers). Then calculate and print the average of all test marks.\n"
      ],
      "metadata": {
        "id": "WhsNm1FvkMzm"
      }
    },
    {
      "cell_type": "code",
      "execution_count": null,
      "metadata": {
        "id": "OR7RLxgIjfuV"
      },
      "outputs": [],
      "source": [
        "#Write Solution Here\n"
      ]
    },
    {
      "cell_type": "markdown",
      "source": [
        "Q2: Find X raised to power N\n",
        "You are given two numbers ’x’(it’s a float), and ’n’(it’s a integer).\n",
        "\n",
        "Your task is to calculate ‘x’ raised to power ‘n’, and return it."
      ],
      "metadata": {
        "id": "HF0uS15DkaQ_"
      }
    },
    {
      "cell_type": "code",
      "source": [
        "#Write Solution Here\n"
      ],
      "metadata": {
        "id": "lenfyvxfklsd"
      },
      "execution_count": null,
      "outputs": []
    },
    {
      "cell_type": "markdown",
      "source": [
        "Q3: Check Palindrome\n",
        "Given a string, determine if it is a palindrome, considering only alphanumeric characters."
      ],
      "metadata": {
        "id": "WBtg4LRnk9NN"
      }
    },
    {
      "cell_type": "code",
      "source": [
        "#Write Solution Here\n"
      ],
      "metadata": {
        "id": "07HQ2AYflBcV"
      },
      "execution_count": null,
      "outputs": []
    },
    {
      "cell_type": "code",
      "source": [
        "Q4:\n",
        "Consider the string str=”Global Warming” Write statements in Python to implement the following\n",
        "(a) To display the last four characters.\n",
        "(b) To display the substring starting from index 4 and ending at index 8.\n",
        "(c) To check whether string has alphanu-meric characters or not\n",
        "(d) To trim the last four characters from the string.\n",
        "(e) To trim the first four characters from the string.\n",
        "(f) To display the starting index for the substring „ WaD.\n",
        "(g) To change the case of the given string.\n",
        "(h) To check if the string is in title case.\n",
        "(i) To replace all the occurrences of letter „aD in the string with „*?"
      ],
      "metadata": {
        "id": "bl0uexpDcO94"
      },
      "execution_count": null,
      "outputs": []
    },
    {
      "cell_type": "code",
      "source": [
        "#Write Solution Here\n"
      ],
      "metadata": {
        "id": "VliqtnNCcQ5Q"
      },
      "execution_count": null,
      "outputs": []
    }
  ]
}