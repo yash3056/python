{
 "cells": [
  {
   "cell_type": "code",
   "execution_count": 1,
   "id": "08ab3f36-4b66-45c4-b183-47bd9041d223",
   "metadata": {},
   "outputs": [],
   "source": [
    "#initialise x\n",
    "x=5"
   ]
  },
  {
   "cell_type": "code",
   "execution_count": 2,
   "id": "7ad61ac9-38fd-4e26-a6f4-8249bbd56f70",
   "metadata": {},
   "outputs": [
    {
     "data": {
      "text/plain": [
       "5"
      ]
     },
     "execution_count": 2,
     "metadata": {},
     "output_type": "execute_result"
    }
   ],
   "source": [
    "x"
   ]
  },
  {
   "cell_type": "code",
   "execution_count": 3,
   "id": "e245dee6-10ac-436a-a3bd-7925773d9bab",
   "metadata": {},
   "outputs": [
    {
     "data": {
      "text/plain": [
       "5"
      ]
     },
     "execution_count": 3,
     "metadata": {},
     "output_type": "execute_result"
    }
   ],
   "source": [
    "y=5\n",
    "y"
   ]
  },
  {
   "cell_type": "code",
   "execution_count": 4,
   "id": "e33a9207-3898-4828-b5d7-33152e3fd932",
   "metadata": {},
   "outputs": [
    {
     "data": {
      "text/plain": [
       "138757076140400"
      ]
     },
     "execution_count": 4,
     "metadata": {},
     "output_type": "execute_result"
    }
   ],
   "source": [
    "id(x)"
   ]
  },
  {
   "cell_type": "code",
   "execution_count": 5,
   "id": "0d5f86b6-824e-485c-abca-68d9759a96ea",
   "metadata": {},
   "outputs": [
    {
     "data": {
      "text/plain": [
       "138757076140400"
      ]
     },
     "execution_count": 5,
     "metadata": {},
     "output_type": "execute_result"
    }
   ],
   "source": [
    "id(y)"
   ]
  },
  {
   "cell_type": "code",
   "execution_count": 6,
   "id": "2b87e977-b60c-4a3f-93a4-69c23bc21d27",
   "metadata": {},
   "outputs": [
    {
     "name": "stdout",
     "output_type": "stream",
     "text": [
      "12 12\n"
     ]
    }
   ],
   "source": [
    "x=y=z=12\n",
    "print(x,y)"
   ]
  },
  {
   "cell_type": "code",
   "execution_count": 7,
   "id": "cc5d2f9e-def0-40ab-a3c8-ecaeb69e7b9e",
   "metadata": {},
   "outputs": [
    {
     "name": "stdout",
     "output_type": "stream",
     "text": [
      "3 4 5.5\n"
     ]
    }
   ],
   "source": [
    "x,y,z=3,4,5.5\n",
    "print(x,y,z)"
   ]
  },
  {
   "cell_type": "code",
   "execution_count": 8,
   "id": "ebe86a6c-5189-4d54-8af5-0837c4eebe5d",
   "metadata": {},
   "outputs": [
    {
     "data": {
      "text/plain": [
       "int"
      ]
     },
     "execution_count": 8,
     "metadata": {},
     "output_type": "execute_result"
    }
   ],
   "source": [
    "type(x)"
   ]
  },
  {
   "cell_type": "code",
   "execution_count": 9,
   "id": "fd65d7c9-d192-4042-8a87-45bc3872f251",
   "metadata": {},
   "outputs": [
    {
     "data": {
      "text/plain": [
       "float"
      ]
     },
     "execution_count": 9,
     "metadata": {},
     "output_type": "execute_result"
    }
   ],
   "source": [
    "type(z)"
   ]
  },
  {
   "cell_type": "code",
   "execution_count": 10,
   "id": "d7f350e7-60c5-472a-b19c-979b7c09d0de",
   "metadata": {},
   "outputs": [
    {
     "name": "stdout",
     "output_type": "stream",
     "text": [
      "(43+18j)\n",
      "(-23+22j)\n"
     ]
    },
    {
     "data": {
      "text/plain": [
       "complex"
      ]
     },
     "execution_count": 10,
     "metadata": {},
     "output_type": "execute_result"
    }
   ],
   "source": [
    "x=10+20j\n",
    "y=33-2j\n",
    "print(x+y)\n",
    "print(x-y)\n",
    "type(x-y)"
   ]
  },
  {
   "cell_type": "code",
   "execution_count": 11,
   "id": "c33c534b-8e14-4a38-9a6f-bb16e06c44e1",
   "metadata": {},
   "outputs": [
    {
     "data": {
      "text/plain": [
       "'this \\nthere \\nenglish or spanish'"
      ]
     },
     "execution_count": 11,
     "metadata": {},
     "output_type": "execute_result"
    }
   ],
   "source": [
    "\"\"\"this \n",
    "there \n",
    "english or spanish\"\"\""
   ]
  },
  {
   "cell_type": "code",
   "execution_count": 12,
   "id": "55a53f5a-cb20-46fe-929f-73e356533a77",
   "metadata": {},
   "outputs": [
    {
     "name": "stdout",
     "output_type": "stream",
     "text": [
      "hella india hella hella hella \n"
     ]
    },
    {
     "data": {
      "text/plain": [
       "str"
      ]
     },
     "execution_count": 12,
     "metadata": {},
     "output_type": "execute_result"
    }
   ],
   "source": [
    "x=\"hella \"\n",
    "y=\"india \"\n",
    "print(x+y+3*x)\n",
    "type(x+y+3*x)"
   ]
  },
  {
   "cell_type": "code",
   "execution_count": 13,
   "id": "f559f80e-42a6-4319-bb06-e0efcc0ddeb0",
   "metadata": {},
   "outputs": [
    {
     "name": "stdout",
     "output_type": "stream",
     "text": [
      "hello world\n"
     ]
    }
   ],
   "source": [
    "s1 = \"hello world\"\n",
    "print(s1)"
   ]
  },
  {
   "cell_type": "code",
   "execution_count": 14,
   "id": "b1bd0b75-e0e2-478d-9aa7-4d1a5d9d280b",
   "metadata": {},
   "outputs": [
    {
     "name": "stdout",
     "output_type": "stream",
     "text": [
      "lo worl\n",
      "hello wor\n",
      "low\n",
      "hlowrd\n"
     ]
    }
   ],
   "source": [
    "#slice operator ([])\n",
    "print(s1[3:-1])\n",
    "print(s1[0:9])\n",
    "print(s1[2:-3:2])\n",
    "print(s1[::2])"
   ]
  },
  {
   "cell_type": "markdown",
   "id": "a0932541-3542-4bf5-b0b2-125a5bdbae74",
   "metadata": {},
   "source": [
    "### boolean"
   ]
  },
  {
   "cell_type": "code",
   "execution_count": 15,
   "id": "a193648a-de5b-4ac0-a20d-af7c2d102c48",
   "metadata": {},
   "outputs": [
    {
     "name": "stdout",
     "output_type": "stream",
     "text": [
      "<class 'bool'>\n",
      "<class 'bool'>\n"
     ]
    }
   ],
   "source": [
    "x= True\n",
    "y= False\n",
    "print(type(x))\n",
    "print(type(y))"
   ]
  },
  {
   "cell_type": "code",
   "execution_count": 16,
   "id": "8156a83d-0494-4d99-ba8d-561e0d8e9a46",
   "metadata": {},
   "outputs": [
    {
     "data": {
      "text/plain": [
       "True"
      ]
     },
     "execution_count": 16,
     "metadata": {},
     "output_type": "execute_result"
    }
   ],
   "source": [
    "x=9>3\n",
    "x"
   ]
  },
  {
   "cell_type": "code",
   "execution_count": 17,
   "id": "7bcf23e8-4db1-4fc0-8e6c-13fdb9beb1be",
   "metadata": {},
   "outputs": [
    {
     "data": {
      "text/plain": [
       "5.0"
      ]
     },
     "execution_count": 17,
     "metadata": {},
     "output_type": "execute_result"
    }
   ],
   "source": [
    "float(5)"
   ]
  },
  {
   "cell_type": "code",
   "execution_count": 25,
   "id": "e1eaa647-c389-4072-ad84-c60bf56c0f63",
   "metadata": {},
   "outputs": [
    {
     "name": "stdout",
     "output_type": "stream",
     "text": [
      "7\n",
      "<class 'int'>\n"
     ]
    }
   ],
   "source": [
    "s2=\"7\"\n",
    "y=int(s2)\n",
    "print(y)\n",
    "print(type(y))"
   ]
  },
  {
   "cell_type": "code",
   "execution_count": 2,
   "id": "d4ffb7ad-fc44-4541-8287-3b30e64afbd3",
   "metadata": {},
   "outputs": [
    {
     "name": "stdin",
     "output_type": "stream",
     "text": [
      " 017\n"
     ]
    },
    {
     "name": "stdout",
     "output_type": "stream",
     "text": [
      "you are not eligible for voting\n"
     ]
    }
   ],
   "source": [
    "age=int(input())\n",
    "if age<18:\n",
    "    print(\"you are not eligible for voting\")\n",
    "else:\n",
    "    print(\"you are eligible for voting\")"
   ]
  },
  {
   "cell_type": "code",
   "execution_count": null,
   "id": "55da610d-1d17-401e-a0c1-a8101929d045",
   "metadata": {},
   "outputs": [],
   "source": []
  }
 ],
 "metadata": {
  "kernelspec": {
   "display_name": "Python 3 (ipykernel)",
   "language": "python",
   "name": "python3"
  },
  "language_info": {
   "codemirror_mode": {
    "name": "ipython",
    "version": 3
   },
   "file_extension": ".py",
   "mimetype": "text/x-python",
   "name": "python",
   "nbconvert_exporter": "python",
   "pygments_lexer": "ipython3",
   "version": "3.10.13"
  }
 },
 "nbformat": 4,
 "nbformat_minor": 5
}
