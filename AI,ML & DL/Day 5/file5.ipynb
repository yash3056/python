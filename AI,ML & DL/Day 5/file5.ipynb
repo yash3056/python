{
 "cells": [
  {
   "cell_type": "code",
   "execution_count": 1,
   "id": "ced1bfaf",
   "metadata": {
    "_cell_guid": "b1076dfc-b9ad-4769-8c92-a6c4dae69d19",
    "_uuid": "8f2839f25d086af736a60e9eeb907d3b93b6e0e5",
    "execution": {
     "iopub.execute_input": "2024-07-05T08:03:18.442080Z",
     "iopub.status.busy": "2024-07-05T08:03:18.441690Z",
     "iopub.status.idle": "2024-07-05T08:03:18.452953Z",
     "shell.execute_reply": "2024-07-05T08:03:18.451849Z"
    },
    "papermill": {
     "duration": 0.018825,
     "end_time": "2024-07-05T08:03:18.455494",
     "exception": false,
     "start_time": "2024-07-05T08:03:18.436669",
     "status": "completed"
    },
    "tags": []
   },
   "outputs": [],
   "source": [
    "import numpy as np\n",
    "import sys"
   ]
  },
  {
   "cell_type": "code",
   "execution_count": 2,
   "id": "9b5ebd5a",
   "metadata": {
    "execution": {
     "iopub.execute_input": "2024-07-05T08:03:18.464113Z",
     "iopub.status.busy": "2024-07-05T08:03:18.463215Z",
     "iopub.status.idle": "2024-07-05T08:03:18.469916Z",
     "shell.execute_reply": "2024-07-05T08:03:18.468682Z"
    },
    "papermill": {
     "duration": 0.013215,
     "end_time": "2024-07-05T08:03:18.472185",
     "exception": false,
     "start_time": "2024-07-05T08:03:18.458970",
     "status": "completed"
    },
    "tags": []
   },
   "outputs": [
    {
     "name": "stdout",
     "output_type": "stream",
     "text": [
      "2800\n",
      "912\n"
     ]
    }
   ],
   "source": [
    "array1=[i for i in range(100)]\n",
    "array2=np.array(array1)\n",
    "print(sys.getsizeof(1)*len(array1))\n",
    "print(sys.getsizeof(array2))"
   ]
  },
  {
   "cell_type": "markdown",
   "id": "37b3caa6",
   "metadata": {
    "papermill": {
     "duration": 0.002999,
     "end_time": "2024-07-05T08:03:18.478585",
     "exception": false,
     "start_time": "2024-07-05T08:03:18.475586",
     "status": "completed"
    },
    "tags": []
   },
   "source": [
    "#Timw Execution"
   ]
  },
  {
   "cell_type": "code",
   "execution_count": 3,
   "id": "a7819c63",
   "metadata": {
    "execution": {
     "iopub.execute_input": "2024-07-05T08:03:18.486987Z",
     "iopub.status.busy": "2024-07-05T08:03:18.486220Z",
     "iopub.status.idle": "2024-07-05T08:03:18.490805Z",
     "shell.execute_reply": "2024-07-05T08:03:18.489798Z"
    },
    "papermill": {
     "duration": 0.011009,
     "end_time": "2024-07-05T08:03:18.492885",
     "exception": false,
     "start_time": "2024-07-05T08:03:18.481876",
     "status": "completed"
    },
    "tags": []
   },
   "outputs": [],
   "source": [
    "import time"
   ]
  },
  {
   "cell_type": "code",
   "execution_count": 4,
   "id": "dc5b9862",
   "metadata": {
    "execution": {
     "iopub.execute_input": "2024-07-05T08:03:18.501234Z",
     "iopub.status.busy": "2024-07-05T08:03:18.500585Z",
     "iopub.status.idle": "2024-07-05T08:03:18.505091Z",
     "shell.execute_reply": "2024-07-05T08:03:18.504030Z"
    },
    "papermill": {
     "duration": 0.011088,
     "end_time": "2024-07-05T08:03:18.507331",
     "exception": false,
     "start_time": "2024-07-05T08:03:18.496243",
     "status": "completed"
    },
    "tags": []
   },
   "outputs": [],
   "source": [
    "size=100000"
   ]
  },
  {
   "cell_type": "code",
   "execution_count": 5,
   "id": "048fce5e",
   "metadata": {
    "execution": {
     "iopub.execute_input": "2024-07-05T08:03:18.515722Z",
     "iopub.status.busy": "2024-07-05T08:03:18.515010Z",
     "iopub.status.idle": "2024-07-05T08:03:18.548368Z",
     "shell.execute_reply": "2024-07-05T08:03:18.547380Z"
    },
    "papermill": {
     "duration": 0.039948,
     "end_time": "2024-07-05T08:03:18.550592",
     "exception": false,
     "start_time": "2024-07-05T08:03:18.510644",
     "status": "completed"
    },
    "tags": []
   },
   "outputs": [
    {
     "data": {
      "text/plain": [
       "0.02405095100402832"
      ]
     },
     "execution_count": 5,
     "metadata": {},
     "output_type": "execute_result"
    }
   ],
   "source": [
    "def add_using_list():\n",
    "    t1= time.time()\n",
    "    a = range(size)\n",
    "    b = range(size)\n",
    "    c = [a[i] + b[i] for i in range(size)]\n",
    "    t2 = time.time()\n",
    "    return t2-t1\n",
    "add_using_list()"
   ]
  },
  {
   "cell_type": "code",
   "execution_count": 6,
   "id": "6ca9580a",
   "metadata": {
    "execution": {
     "iopub.execute_input": "2024-07-05T08:03:18.559107Z",
     "iopub.status.busy": "2024-07-05T08:03:18.558190Z",
     "iopub.status.idle": "2024-07-05T08:03:18.567682Z",
     "shell.execute_reply": "2024-07-05T08:03:18.566678Z"
    },
    "papermill": {
     "duration": 0.015935,
     "end_time": "2024-07-05T08:03:18.569839",
     "exception": false,
     "start_time": "2024-07-05T08:03:18.553904",
     "status": "completed"
    },
    "tags": []
   },
   "outputs": [
    {
     "data": {
      "text/plain": [
       "0.0025746822357177734"
      ]
     },
     "execution_count": 6,
     "metadata": {},
     "output_type": "execute_result"
    }
   ],
   "source": [
    "def add_using_numpy():\n",
    "    t1 = time.time()\n",
    "    a = np.arange(size)\n",
    "    b = np.arange(size)\n",
    "    c = a+b\n",
    "    t2 = time.time()\n",
    "    return t2 - t1\n",
    "add_using_numpy()"
   ]
  },
  {
   "cell_type": "code",
   "execution_count": 7,
   "id": "5827387e",
   "metadata": {
    "execution": {
     "iopub.execute_input": "2024-07-05T08:03:18.578128Z",
     "iopub.status.busy": "2024-07-05T08:03:18.577764Z",
     "iopub.status.idle": "2024-07-05T08:03:18.583143Z",
     "shell.execute_reply": "2024-07-05T08:03:18.582204Z"
    },
    "papermill": {
     "duration": 0.012004,
     "end_time": "2024-07-05T08:03:18.585369",
     "exception": false,
     "start_time": "2024-07-05T08:03:18.573365",
     "status": "completed"
    },
    "tags": []
   },
   "outputs": [
    {
     "name": "stdout",
     "output_type": "stream",
     "text": [
      "hi1\n"
     ]
    }
   ],
   "source": [
    "spam =13\n",
    "if spam>7:\n",
    "    print(\"hi1\")\n",
    "if spam>23:\n",
    "    print(\"hi2\")"
   ]
  },
  {
   "cell_type": "code",
   "execution_count": 8,
   "id": "7a7015b4",
   "metadata": {
    "execution": {
     "iopub.execute_input": "2024-07-05T08:03:18.594271Z",
     "iopub.status.busy": "2024-07-05T08:03:18.593269Z",
     "iopub.status.idle": "2024-07-05T08:03:18.598223Z",
     "shell.execute_reply": "2024-07-05T08:03:18.597196Z"
    },
    "papermill": {
     "duration": 0.011615,
     "end_time": "2024-07-05T08:03:18.600397",
     "exception": false,
     "start_time": "2024-07-05T08:03:18.588782",
     "status": "completed"
    },
    "tags": []
   },
   "outputs": [],
   "source": [
    "_v =2\n"
   ]
  },
  {
   "cell_type": "code",
   "execution_count": null,
   "id": "4cc12322",
   "metadata": {
    "papermill": {
     "duration": 0.003253,
     "end_time": "2024-07-05T08:03:18.607297",
     "exception": false,
     "start_time": "2024-07-05T08:03:18.604044",
     "status": "completed"
    },
    "tags": []
   },
   "outputs": [],
   "source": []
  }
 ],
 "metadata": {
  "kaggle": {
   "accelerator": "none",
   "dataSources": [],
   "dockerImageVersionId": 30732,
   "isGpuEnabled": false,
   "isInternetEnabled": false,
   "language": "python",
   "sourceType": "notebook"
  },
  "kernelspec": {
   "display_name": "Python 3",
   "language": "python",
   "name": "python3"
  },
  "language_info": {
   "codemirror_mode": {
    "name": "ipython",
    "version": 3
   },
   "file_extension": ".py",
   "mimetype": "text/x-python",
   "name": "python",
   "nbconvert_exporter": "python",
   "pygments_lexer": "ipython3",
   "version": "3.10.13"
  },
  "papermill": {
   "default_parameters": {},
   "duration": 3.164075,
   "end_time": "2024-07-05T08:03:18.930270",
   "environment_variables": {},
   "exception": null,
   "input_path": "__notebook__.ipynb",
   "output_path": "__notebook__.ipynb",
   "parameters": {},
   "start_time": "2024-07-05T08:03:15.766195",
   "version": "2.5.0"
  }
 },
 "nbformat": 4,
 "nbformat_minor": 5
}
